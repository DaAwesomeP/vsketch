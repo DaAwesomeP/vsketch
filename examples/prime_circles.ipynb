{
 "cells": [
  {
   "cell_type": "code",
   "execution_count": 1,
   "metadata": {},
   "outputs": [],
   "source": [
    "%load_ext autoreload\n",
    "%autoreload 2\n",
    "%matplotlib widget"
   ]
  },
  {
   "cell_type": "code",
   "execution_count": 2,
   "metadata": {},
   "outputs": [],
   "source": [
    "def get_primes(n):\n",
    "    numbers = set(range(n, 1, -1))\n",
    "    primes = []\n",
    "    while numbers:\n",
    "        p = numbers.pop()\n",
    "        primes.append(p)\n",
    "        numbers.difference_update(set(range(p*2, n+1, p)))\n",
    "    return primes"
   ]
  },
  {
   "cell_type": "code",
   "execution_count": 3,
   "metadata": {},
   "outputs": [
    {
     "data": {
      "application/vnd.jupyter.widget-view+json": {
       "model_id": "9803e28a9b17431b9f51645dcaf7ca63",
       "version_major": 2,
       "version_minor": 0
      },
      "text/plain": [
       "Canvas(toolbar=Toolbar(toolitems=[('Home', 'Reset original view', 'home', 'home'), ('Back', 'Back to previous …"
      ]
     },
     "metadata": {},
     "output_type": "display_data"
    }
   ],
   "source": [
    "import math\n",
    "import numpy as np\n",
    "import vsketch\n",
    "\n",
    "N = 100\n",
    "RANDOM_PHASE = False\n",
    "\n",
    "vsk = vsketch.Vsketch()\n",
    "\n",
    "for i, prime in enumerate(get_primes(N)):\n",
    "    vsk.circle(0, 0, 2*(i + 1))\n",
    "    \n",
    "    if RANDOM_PHASE:\n",
    "        phase = np.random.random() * 2 * math.pi\n",
    "    else:\n",
    "        phase = -math.pi/2\n",
    "        \n",
    "    for angle in np.linspace(0, 2 * math.pi, prime, endpoint=False):\n",
    "        vsk.line(\n",
    "            (i + 1) * math.cos(angle + phase),\n",
    "            (i + 1) * math.sin(angle + phase),\n",
    "            (i + 2) * math.cos(angle + phase),\n",
    "            (i + 2) * math.sin(angle + phase)\n",
    "        )\n",
    "        \n",
    "vsk.circle(0, 0, 2 * (i + 2))\n",
    "vsk.pipeline(\"linemerge linesort\")\n",
    "\n",
    "\n",
    "vsk.plot()"
   ]
  }
 ],
 "metadata": {
  "kernelspec": {
   "display_name": "Python 3",
   "language": "python",
   "name": "python3"
  },
  "language_info": {
   "codemirror_mode": {
    "name": "ipython",
    "version": 3
   },
   "file_extension": ".py",
   "mimetype": "text/x-python",
   "name": "python",
   "nbconvert_exporter": "python",
   "pygments_lexer": "ipython3",
   "version": "3.8.5"
  }
 },
 "nbformat": 4,
 "nbformat_minor": 4
}
